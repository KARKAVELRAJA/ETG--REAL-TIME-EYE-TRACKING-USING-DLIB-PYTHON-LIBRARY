{
 "cells": [
  {
   "cell_type": "code",
   "execution_count": 1,
   "metadata": {},
   "outputs": [],
   "source": [
    "import cv2\n",
    "import dlib"
   ]
  },
  {
   "cell_type": "code",
   "execution_count": 49,
   "metadata": {},
   "outputs": [],
   "source": [
    "camera    = cv2.VideoCapture(0)\n",
    "\n",
    "detector  = dlib.get_frontal_face_detector()\n",
    "\n",
    "predictor = dlib.shape_predictor(\"C:\\\\Users\\\\Admin\\\\Desktop\\\\shape_predictor_68_face_landmarks.dat\")\n",
    "\n",
    "while True:\n",
    "    _, frame = camera.read()\n",
    "    frame    = cv2.flip(frame,1)\n",
    "    \n",
    "    try:\n",
    "        \n",
    "        face   = detector(frame) #face detector\n",
    "        result = predictor(frame, face[0]) # facial LandMark predictor\n",
    "        \n",
    "        text = 1\n",
    "    \n",
    "        for points in result.parts():\n",
    "            cv2.circle(frame,(int(points.x),int(points.y)),2,(255,0,0),-1)\n",
    "            cv2.putText(frame,str(text),(int(points.x),int(points.y)),cv2.FONT_HERSHEY_PLAIN, .7,(0,0,255), 1)\n",
    "            text = text + 1\n",
    "        \n",
    "        # getting only eye part\n",
    "        \n",
    "        x1 = result.part(38).x\n",
    "        y1 = result.part(38).y\n",
    "        x2 = result.part(42).x\n",
    "        y2 = result.part(42).y\n",
    "        \n",
    "        if (abs(y2-y1)>7):\n",
    "            cv2.putText(frame,\"EYES OPENED\",(20,140),cv2.FONT_HERSHEY_PLAIN, 3,(0,0,255), 5)\n",
    "        else:\n",
    "            cv2.putText(frame,\"EYES CLOSED\",(20,140),cv2.FONT_HERSHEY_PLAIN, 3,(0,0,255), 5)\n",
    "\n",
    "    \n",
    "        cv2.imshow(\"Face LandMark Detection\", frame)\n",
    "        \n",
    "        \n",
    "    except:\n",
    "        cv2.putText(frame,\"FACE NOT FOUND\",(20,140),cv2.FONT_HERSHEY_PLAIN, 3,(0,0,255), 5)\n",
    "        cv2.imshow(\"Face LandMark Detection\", frame)\n",
    "    \n",
    "    key = cv2.waitKey(30)\n",
    "    \n",
    "    if key==97:\n",
    "        cv2.destroyAllWindows()\n",
    "        break\n",
    "            \n",
    "    \n",
    "        \n",
    "camera.release()"
   ]
  }
 ],
 "metadata": {
  "kernelspec": {
   "display_name": "Python 3",
   "language": "python",
   "name": "python3"
  },
  "language_info": {
   "codemirror_mode": {
    "name": "ipython",
    "version": 3
   },
   "file_extension": ".py",
   "mimetype": "text/x-python",
   "name": "python",
   "nbconvert_exporter": "python",
   "pygments_lexer": "ipython3",
   "version": "3.8.5"
  }
 },
 "nbformat": 4,
 "nbformat_minor": 4
}
